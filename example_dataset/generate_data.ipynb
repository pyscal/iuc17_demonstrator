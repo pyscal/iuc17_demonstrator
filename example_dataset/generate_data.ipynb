{
 "cells": [
  {
   "cell_type": "code",
   "execution_count": 1,
   "id": "046b795e-d73f-4688-bf01-aab5ea1ea6e1",
   "metadata": {},
   "outputs": [
    {
     "name": "stderr",
     "output_type": "stream",
     "text": [
      "/home/menon/miniconda3/envs/rdf-wf-7/lib/python3.10/site-packages/numpy/core/getlimits.py:542: UserWarning: Signature b'\\x00\\xd0\\xcc\\xcc\\xcc\\xcc\\xcc\\xcc\\xfb\\xbf\\x00\\x00\\x00\\x00\\x00\\x00' for <class 'numpy.longdouble'> does not match any known type: falling back to type probe function.\n",
      "This warnings indicates broken support for the dtype!\n",
      "  machar = _get_machar(dtype)\n"
     ]
    },
    {
     "data": {
      "application/vnd.jupyter.widget-view+json": {
       "model_id": "f2fbaa88614f430096307003c24a1d8b",
       "version_major": 2,
       "version_minor": 0
      },
      "text/plain": []
     },
     "metadata": {},
     "output_type": "display_data"
    }
   ],
   "source": [
    "from pyscal_rdf import StructureGraph\n",
    "from workflow_rdf import Project"
   ]
  },
  {
   "cell_type": "markdown",
   "id": "39b21333-cb7e-428d-98f9-f91266cddce9",
   "metadata": {},
   "source": [
    "# Minimisation, MD"
   ]
  },
  {
   "cell_type": "markdown",
   "id": "a4ebabcf-b384-4e23-a1cc-47304be78e02",
   "metadata": {},
   "source": [
    "20 MD calculations with selected elements"
   ]
  },
  {
   "cell_type": "code",
   "execution_count": 2,
   "id": "6df9341d-75e5-40e9-9401-0c4f35b23301",
   "metadata": {},
   "outputs": [],
   "source": [
    "pr = Project('proda_1')"
   ]
  },
  {
   "cell_type": "code",
   "execution_count": 3,
   "id": "e4bbddee-82f4-4d84-9a8a-448a43471128",
   "metadata": {},
   "outputs": [],
   "source": [
    "elements = ['Al', 'Au', 'Ni', 'Fe', 'Cu', 'Mo', 'Ti', 'Si', 'Zn', 'Mg']\n",
    "system_size = [1, 2, 3]\n",
    "potentials = ['2008--Mendelev-M-I--Al--LAMMPS--ipr1',\n",
    "              '1986--Foiles-S-M--Ag-Au-Cu-Ni-Pd-Pt--LAMMPS--ipr1',\n",
    "              '1995--Angelo-J-E--Ni-Al-H--LAMMPS--ipr1',\n",
    "              '1997--Ackland-G-J--Fe--LAMMPS--ipr1',\n",
    "             '1985--Foiles-S-M--Ni-Cu--LAMMPS--ipr1',\n",
    "             '2004--Zhou-X-W--Mo--LAMMPS--ipr2',\n",
    "             '1996--Farkas-D--Nb-Ti-Al--LAMMPS--ipr1',\n",
    "             '1988--Tersoff-J--Si-c--LAMMPS--ipr1',\n",
    "             '2013--Zhou-X-W--Zn-Cd-Hg-S-Se-Te--LAMMPS--ipr1',\n",
    "             '2004--Zhou-X-W--Mg--LAMMPS--ipr2']"
   ]
  },
  {
   "cell_type": "code",
   "execution_count": 4,
   "id": "17cfb4fe-44b5-4675-8ca0-ff5cc34ea732",
   "metadata": {
    "collapsed": true,
    "jupyter": {
     "outputs_hidden": true
    }
   },
   "outputs": [
    {
     "name": "stdout",
     "output_type": "stream",
     "text": [
      "The job Al_1_min_0 was saved and received the ID: 2123\n",
      "finished Al with 1 minimize\n",
      "The job Al_1_md_300 was saved and received the ID: 2124\n",
      "finished Al with 1 md 300 K\n",
      "The job Al_1_md_500 was saved and received the ID: 2125\n",
      "finished Al with 1 md 500 K\n",
      "The job Al_2_min_0 was saved and received the ID: 2126\n",
      "finished Al with 2 minimize\n",
      "The job Al_2_md_300 was saved and received the ID: 2127\n",
      "finished Al with 2 md 300 K\n",
      "The job Al_2_md_500 was saved and received the ID: 2128\n",
      "finished Al with 2 md 500 K\n",
      "The job Al_3_min_0 was saved and received the ID: 2129\n",
      "finished Al with 3 minimize\n",
      "The job Al_3_md_300 was saved and received the ID: 2130\n",
      "finished Al with 3 md 300 K\n",
      "The job Al_3_md_500 was saved and received the ID: 2131\n",
      "finished Al with 3 md 500 K\n",
      "The job Au_1_min_0 was saved and received the ID: 2132\n",
      "finished Au with 1 minimize\n",
      "The job Au_1_md_300 was saved and received the ID: 2133\n",
      "finished Au with 1 md 300 K\n",
      "The job Au_1_md_500 was saved and received the ID: 2134\n",
      "finished Au with 1 md 500 K\n",
      "The job Au_2_min_0 was saved and received the ID: 2135\n",
      "finished Au with 2 minimize\n",
      "The job Au_2_md_300 was saved and received the ID: 2136\n",
      "finished Au with 2 md 300 K\n",
      "The job Au_2_md_500 was saved and received the ID: 2137\n",
      "finished Au with 2 md 500 K\n",
      "The job Au_3_min_0 was saved and received the ID: 2138\n",
      "finished Au with 3 minimize\n",
      "The job Au_3_md_300 was saved and received the ID: 2139\n",
      "finished Au with 3 md 300 K\n",
      "The job Au_3_md_500 was saved and received the ID: 2140\n",
      "finished Au with 3 md 500 K\n",
      "The job Ni_1_min_0 was saved and received the ID: 2141\n",
      "finished Ni with 1 minimize\n",
      "The job Ni_1_md_300 was saved and received the ID: 2142\n",
      "finished Ni with 1 md 300 K\n",
      "The job Ni_1_md_500 was saved and received the ID: 2143\n",
      "finished Ni with 1 md 500 K\n",
      "The job Ni_2_min_0 was saved and received the ID: 2144\n",
      "finished Ni with 2 minimize\n",
      "The job Ni_2_md_300 was saved and received the ID: 2145\n",
      "finished Ni with 2 md 300 K\n",
      "The job Ni_2_md_500 was saved and received the ID: 2146\n",
      "finished Ni with 2 md 500 K\n",
      "The job Ni_3_min_0 was saved and received the ID: 2147\n",
      "finished Ni with 3 minimize\n",
      "The job Ni_3_md_300 was saved and received the ID: 2148\n",
      "finished Ni with 3 md 300 K\n",
      "The job Ni_3_md_500 was saved and received the ID: 2149\n",
      "finished Ni with 3 md 500 K\n",
      "The job Fe_1_min_0 was saved and received the ID: 2150\n",
      "finished Fe with 1 minimize\n",
      "The job Fe_1_md_300 was saved and received the ID: 2151\n",
      "finished Fe with 1 md 300 K\n",
      "The job Fe_1_md_500 was saved and received the ID: 2152\n",
      "finished Fe with 1 md 500 K\n",
      "The job Fe_2_min_0 was saved and received the ID: 2153\n",
      "finished Fe with 2 minimize\n",
      "The job Fe_2_md_300 was saved and received the ID: 2154\n",
      "finished Fe with 2 md 300 K\n",
      "The job Fe_2_md_500 was saved and received the ID: 2155\n",
      "finished Fe with 2 md 500 K\n",
      "The job Fe_3_min_0 was saved and received the ID: 2156\n",
      "finished Fe with 3 minimize\n",
      "The job Fe_3_md_300 was saved and received the ID: 2157\n",
      "finished Fe with 3 md 300 K\n",
      "The job Fe_3_md_500 was saved and received the ID: 2158\n",
      "finished Fe with 3 md 500 K\n",
      "The job Cu_1_min_0 was saved and received the ID: 2159\n",
      "finished Cu with 1 minimize\n",
      "The job Cu_1_md_300 was saved and received the ID: 2160\n",
      "finished Cu with 1 md 300 K\n",
      "The job Cu_1_md_500 was saved and received the ID: 2161\n",
      "finished Cu with 1 md 500 K\n",
      "The job Cu_2_min_0 was saved and received the ID: 2162\n",
      "finished Cu with 2 minimize\n",
      "The job Cu_2_md_300 was saved and received the ID: 2163\n",
      "finished Cu with 2 md 300 K\n",
      "The job Cu_2_md_500 was saved and received the ID: 2164\n",
      "finished Cu with 2 md 500 K\n",
      "The job Cu_3_min_0 was saved and received the ID: 2165\n",
      "finished Cu with 3 minimize\n",
      "The job Cu_3_md_300 was saved and received the ID: 2166\n",
      "finished Cu with 3 md 300 K\n",
      "The job Cu_3_md_500 was saved and received the ID: 2167\n",
      "finished Cu with 3 md 500 K\n",
      "The job Mo_1_min_0 was saved and received the ID: 2168\n",
      "finished Mo with 1 minimize\n",
      "The job Mo_1_md_300 was saved and received the ID: 2169\n",
      "finished Mo with 1 md 300 K\n",
      "The job Mo_1_md_500 was saved and received the ID: 2170\n",
      "finished Mo with 1 md 500 K\n",
      "The job Mo_2_min_0 was saved and received the ID: 2171\n",
      "finished Mo with 2 minimize\n",
      "The job Mo_2_md_300 was saved and received the ID: 2172\n",
      "finished Mo with 2 md 300 K\n",
      "The job Mo_2_md_500 was saved and received the ID: 2173\n",
      "finished Mo with 2 md 500 K\n",
      "The job Mo_3_min_0 was saved and received the ID: 2174\n",
      "finished Mo with 3 minimize\n",
      "The job Mo_3_md_300 was saved and received the ID: 2175\n",
      "finished Mo with 3 md 300 K\n",
      "The job Mo_3_md_500 was saved and received the ID: 2176\n",
      "finished Mo with 3 md 500 K\n",
      "The job Ti_1_min_0 was saved and received the ID: 2177\n",
      "finished Ti with 1 minimize\n",
      "The job Ti_1_md_300 was saved and received the ID: 2178\n",
      "finished Ti with 1 md 300 K\n",
      "The job Ti_1_md_500 was saved and received the ID: 2179\n",
      "finished Ti with 1 md 500 K\n",
      "The job Ti_2_min_0 was saved and received the ID: 2180\n",
      "finished Ti with 2 minimize\n",
      "The job Ti_2_md_300 was saved and received the ID: 2181\n",
      "finished Ti with 2 md 300 K\n",
      "The job Ti_2_md_500 was saved and received the ID: 2182\n",
      "finished Ti with 2 md 500 K\n",
      "The job Ti_3_min_0 was saved and received the ID: 2183\n",
      "finished Ti with 3 minimize\n",
      "The job Ti_3_md_300 was saved and received the ID: 2184\n",
      "finished Ti with 3 md 300 K\n",
      "The job Ti_3_md_500 was saved and received the ID: 2185\n",
      "finished Ti with 3 md 500 K\n",
      "The job Si_1_min_0 was saved and received the ID: 2186\n",
      "finished Si with 1 minimize\n",
      "The job Si_1_md_300 was saved and received the ID: 2187\n",
      "finished Si with 1 md 300 K\n",
      "The job Si_1_md_500 was saved and received the ID: 2188\n",
      "finished Si with 1 md 500 K\n",
      "The job Si_2_min_0 was saved and received the ID: 2189\n",
      "finished Si with 2 minimize\n",
      "The job Si_2_md_300 was saved and received the ID: 2190\n",
      "finished Si with 2 md 300 K\n",
      "The job Si_2_md_500 was saved and received the ID: 2191\n",
      "finished Si with 2 md 500 K\n",
      "The job Si_3_min_0 was saved and received the ID: 2192\n",
      "finished Si with 3 minimize\n",
      "The job Si_3_md_300 was saved and received the ID: 2193\n",
      "finished Si with 3 md 300 K\n",
      "The job Si_3_md_500 was saved and received the ID: 2194\n",
      "finished Si with 3 md 500 K\n",
      "The job Zn_1_min_0 was saved and received the ID: 2195\n",
      "finished Zn with 1 minimize\n",
      "The job Zn_1_md_300 was saved and received the ID: 2196\n",
      "finished Zn with 1 md 300 K\n",
      "The job Zn_1_md_500 was saved and received the ID: 2197\n",
      "finished Zn with 1 md 500 K\n",
      "The job Zn_2_min_0 was saved and received the ID: 2198\n",
      "finished Zn with 2 minimize\n",
      "The job Zn_2_md_300 was saved and received the ID: 2199\n",
      "finished Zn with 2 md 300 K\n",
      "The job Zn_2_md_500 was saved and received the ID: 2200\n",
      "finished Zn with 2 md 500 K\n",
      "The job Zn_3_min_0 was saved and received the ID: 2201\n",
      "finished Zn with 3 minimize\n",
      "The job Zn_3_md_300 was saved and received the ID: 2202\n",
      "finished Zn with 3 md 300 K\n",
      "The job Zn_3_md_500 was saved and received the ID: 2203\n",
      "finished Zn with 3 md 500 K\n",
      "The job Mg_1_min_0 was saved and received the ID: 2204\n",
      "finished Mg with 1 minimize\n",
      "The job Mg_1_md_300 was saved and received the ID: 2205\n",
      "finished Mg with 1 md 300 K\n",
      "The job Mg_1_md_500 was saved and received the ID: 2206\n",
      "finished Mg with 1 md 500 K\n",
      "The job Mg_2_min_0 was saved and received the ID: 2207\n",
      "finished Mg with 2 minimize\n",
      "The job Mg_2_md_300 was saved and received the ID: 2208\n",
      "finished Mg with 2 md 300 K\n",
      "The job Mg_2_md_500 was saved and received the ID: 2209\n",
      "finished Mg with 2 md 500 K\n",
      "The job Mg_3_min_0 was saved and received the ID: 2210\n",
      "finished Mg with 3 minimize\n",
      "The job Mg_3_md_300 was saved and received the ID: 2211\n",
      "finished Mg with 3 md 300 K\n",
      "The job Mg_3_md_500 was saved and received the ID: 2212\n",
      "finished Mg with 3 md 500 K\n"
     ]
    }
   ],
   "source": [
    "for count, element in enumerate(elements):\n",
    "    for size in system_size:\n",
    "        jobname = f'{element}_{size}_min_0'\n",
    "        job = pr.create.job.RDFLammps(jobname)\n",
    "        struct = pr.create.structure.bulk(element, cubic=True, repetitions=(size,size,size))\n",
    "        job.structure = struct\n",
    "        job.potential = potentials[count]\n",
    "        #job.server.cores = 4\n",
    "        job.calc_minimize(pressure=0)\n",
    "        job.run()        \n",
    "        print(f'finished {element} with {size} minimize')\n",
    "        \n",
    "        jobname = f'{element}_{size}_md_300'\n",
    "        job = pr.create.job.RDFLammps(jobname)\n",
    "        job.structure = struct\n",
    "        job.potential = potentials[count]\n",
    "        #job.server.cores = 4\n",
    "        job.calc_md(pressure=0, temperature=300, n_ionic_steps=1000)\n",
    "        job.run()        \n",
    "        print(f'finished {element} with {size} md 300 K')\n",
    "\n",
    "        jobname = f'{element}_{size}_md_500'\n",
    "        job = pr.create.job.RDFLammps(jobname)\n",
    "        job.structure = struct\n",
    "        job.potential = potentials[count]\n",
    "        #job.server.cores = 4\n",
    "        job.calc_md(pressure=0, temperature=500, n_ionic_steps=1000)\n",
    "        job.run()        \n",
    "        print(f'finished {element} with {size} md 500 K')\n",
    "        "
   ]
  },
  {
   "cell_type": "markdown",
   "id": "ebde52f3-3e0a-4538-9d1b-fa0a4531bacc",
   "metadata": {},
   "source": [
    "# GBs"
   ]
  },
  {
   "cell_type": "code",
   "execution_count": 3,
   "id": "90e5bae5-103c-47ad-ae8b-ff64ea4216a2",
   "metadata": {},
   "outputs": [
    {
     "name": "stdout",
     "output_type": "stream",
     "text": [
      "The job Fe_gb_min_0 was saved and received the ID: 2213\n",
      "The job Fe_gb_md_300 was saved and received the ID: 2214\n"
     ]
    }
   ],
   "source": [
    "jobname = f'Fe_gb_min_0'\n",
    "job = pr.create.job.RDFLammps(jobname)\n",
    "struct = pr.create.structure.grain_boundary(axis=[0,0,1], \n",
    "                        sigma=5, \n",
    "                        gb_plane=[3, -1, 0],\n",
    "                        element='Fe')\n",
    "job.structure = struct\n",
    "job.potential = '1997--Ackland-G-J--Fe--LAMMPS--ipr1'\n",
    "#job.server.cores = 4\n",
    "job.calc_minimize(pressure=0)\n",
    "job.run()        \n",
    "\n",
    "jobname = f'Fe_gb_md_300'\n",
    "job = pr.create.job.RDFLammps(jobname)\n",
    "struct = pr.create.structure.grain_boundary(axis=[0,0,1], \n",
    "                        sigma=5, \n",
    "                        gb_plane=[3, -1, 0],\n",
    "                        element='Fe')\n",
    "job.structure = struct\n",
    "job.potential = '1997--Ackland-G-J--Fe--LAMMPS--ipr1'\n",
    "#job.server.cores = 4\n",
    "job.calc_md(pressure=0, temperature=300, n_ionic_steps=1000)\n",
    "job.run()        "
   ]
  },
  {
   "cell_type": "code",
   "execution_count": 5,
   "id": "293425c9-bf05-4fe9-b097-d78b96be6586",
   "metadata": {},
   "outputs": [
    {
     "name": "stdout",
     "output_type": "stream",
     "text": [
      "The job Ni_gb_min_0 was saved and received the ID: 2215\n",
      "The job Ni_gb_md_300 was saved and received the ID: 2216\n"
     ]
    }
   ],
   "source": [
    "jobname = f'Ni_gb_min_0'\n",
    "job = pr.create.job.RDFLammps(jobname)\n",
    "struct = pr.create.structure.grain_boundary(axis=[0,0,1], \n",
    "                        sigma=5, \n",
    "                        gb_plane=[2, 1, 0],\n",
    "                        element='Ni')\n",
    "job.structure = struct\n",
    "job.potential = '1995--Angelo-J-E--Ni-Al-H--LAMMPS--ipr1'\n",
    "#job.server.cores = 4\n",
    "job.calc_minimize(pressure=0)\n",
    "job.run()        \n",
    "\n",
    "jobname = f'Ni_gb_md_300'\n",
    "job = pr.create.job.RDFLammps(jobname)\n",
    "struct = pr.create.structure.grain_boundary(axis=[0,0,1], \n",
    "                        sigma=5, \n",
    "                        gb_plane=[2, 1, 0],\n",
    "                        element='Ni')\n",
    "job.structure = struct\n",
    "job.potential = '1995--Angelo-J-E--Ni-Al-H--LAMMPS--ipr1'\n",
    "#job.server.cores = 4\n",
    "job.calc_md(pressure=0, temperature=300, n_ionic_steps=1000)\n",
    "job.run()        "
   ]
  },
  {
   "cell_type": "markdown",
   "id": "8bc94d42-4454-4eb0-ae91-d5880d63688b",
   "metadata": {},
   "source": [
    "# DFT"
   ]
  },
  {
   "cell_type": "code",
   "execution_count": 8,
   "id": "d41941a1-7cfd-401f-98f4-ac8ad66286f6",
   "metadata": {},
   "outputs": [],
   "source": [
    "elements = ['Fe', 'Cu']"
   ]
  },
  {
   "cell_type": "code",
   "execution_count": 9,
   "id": "68909402-30ca-4ba3-aa2f-351627437460",
   "metadata": {},
   "outputs": [
    {
     "name": "stdout",
     "output_type": "stream",
     "text": [
      "The job Fe_dft_min_0 was saved and received the ID: 2220\n",
      "The job Cu_dft_min_0 was saved and received the ID: 2221\n"
     ]
    }
   ],
   "source": [
    "for count, element in enumerate(elements):\n",
    "    jobname = f'{element}_dft_min_0'\n",
    "    job = pr.create.job.RDFSphinx(jobname)\n",
    "    struct = pr.create.structure.bulk(element, cubic=True)\n",
    "    job.structure = struct\n",
    "    job.server.cores = 4\n",
    "    job.set_exchange_correlation_functional(\"PBE\")\n",
    "    job.plane_wave_cutoff = 300\n",
    "    k = int((2000/struct.natoms)**(1/3))\n",
    "    job.set_kpoints(mesh=[k, k, k])\n",
    "    job.set_occupancy_smearing(\"fermi\", 0.2)\n",
    "    job.calc_minimize()\n",
    "    job.run()"
   ]
  },
  {
   "cell_type": "code",
   "execution_count": 10,
   "id": "01392b8b-ea0e-4e32-9049-df2b7b9113e9",
   "metadata": {},
   "outputs": [
    {
     "data": {
      "text/plain": [
       "137"
      ]
     },
     "execution_count": 10,
     "metadata": {},
     "output_type": "execute_result"
    }
   ],
   "source": [
    "pr.graph.n_samples"
   ]
  },
  {
   "cell_type": "code",
   "execution_count": 11,
   "id": "69ff2a1e-3f41-41ca-b2c3-59f0036eae43",
   "metadata": {},
   "outputs": [],
   "source": [
    "pr.graph.archive('dataset_1', compress=False)"
   ]
  },
  {
   "cell_type": "code",
   "execution_count": null,
   "id": "f50f9c9d-98f0-4223-bcf4-8f8ee0133b27",
   "metadata": {},
   "outputs": [],
   "source": []
  }
 ],
 "metadata": {
  "kernelspec": {
   "display_name": "Python 3 (ipykernel)",
   "language": "python",
   "name": "python3"
  },
  "language_info": {
   "codemirror_mode": {
    "name": "ipython",
    "version": 3
   },
   "file_extension": ".py",
   "mimetype": "text/x-python",
   "name": "python",
   "nbconvert_exporter": "python",
   "pygments_lexer": "ipython3",
   "version": "3.10.13"
  }
 },
 "nbformat": 4,
 "nbformat_minor": 5
}

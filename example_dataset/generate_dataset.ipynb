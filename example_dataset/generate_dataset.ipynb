{
 "cells": [
  {
   "cell_type": "code",
   "execution_count": 1,
   "id": "c70052d7-70b8-457b-8e70-558bbdfdbde7",
   "metadata": {},
   "outputs": [],
   "source": [
    "from pyscal_rdf import StructureGraph"
   ]
  },
  {
   "cell_type": "code",
   "execution_count": null,
   "id": "47f305ff-8f52-465f-8b59-9ce77e341d83",
   "metadata": {},
   "outputs": [],
   "source": [
    "g = Struct"
   ]
  }
 ],
 "metadata": {
  "kernelspec": {
   "display_name": "Python 3 (ipykernel)",
   "language": "python",
   "name": "python3"
  },
  "language_info": {
   "codemirror_mode": {
    "name": "ipython",
    "version": 3
   },
   "file_extension": ".py",
   "mimetype": "text/x-python",
   "name": "python",
   "nbconvert_exporter": "python",
   "pygments_lexer": "ipython3",
   "version": "3.10.13"
  }
 },
 "nbformat": 4,
 "nbformat_minor": 5
}

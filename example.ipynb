{
 "cells": [
  {
   "cell_type": "markdown",
   "id": "99ed485a-3d3d-4821-8383-6b4dff31571c",
   "metadata": {},
   "source": [
    "<img src=\"logo.png\" width=\"40%\">"
   ]
  },
  {
   "cell_type": "markdown",
   "id": "b9582fd7-08ab-4931-8f27-b2891db80536",
   "metadata": {},
   "source": [
    "Ontology based atomic structure creation, manipulation, querying."
   ]
  },
  {
   "cell_type": "markdown",
   "id": "156bd52b-33d5-40f0-9e24-87636ff7040c",
   "metadata": {},
   "source": [
    "Imports"
   ]
  },
  {
   "cell_type": "code",
   "execution_count": 1,
   "id": "03c51660-5edd-45b9-b58b-54636709c4b0",
   "metadata": {
    "tags": []
   },
   "outputs": [],
   "source": [
    "from pyscal_rdf import StructureGraph"
   ]
  },
  {
   "cell_type": "markdown",
   "id": "c092c25a-2eb9-4fc4-8e84-63f7c4386d37",
   "metadata": {},
   "source": [
    "First we create a graph"
   ]
  },
  {
   "cell_type": "code",
   "execution_count": 2,
   "id": "23280cd2-6de3-4caa-ae28-9cb0b4d60499",
   "metadata": {
    "tags": []
   },
   "outputs": [],
   "source": [
    "g = StructureGraph()"
   ]
  },
  {
   "cell_type": "markdown",
   "id": "b2a666cb-dfec-42ac-9f09-09e9f1086245",
   "metadata": {},
   "source": [
    "## Creation of structures"
   ]
  },
  {
   "cell_type": "markdown",
   "id": "09d9b2f9-77e5-46b6-8bfb-447783f39830",
   "metadata": {},
   "source": [
    "We will create three structures for the demonstration."
   ]
  },
  {
   "cell_type": "markdown",
   "id": "bad705d6-d8b2-4ab7-b5e2-4f775ff17245",
   "metadata": {},
   "source": [
    "First a BCC Iron structure"
   ]
  },
  {
   "cell_type": "code",
   "execution_count": null,
   "id": "3c279801-d12b-490a-9c69-ce96be831d42",
   "metadata": {
    "tags": []
   },
   "outputs": [],
   "source": [
    "struct_Fe = g.create_element(\"Fe\")"
   ]
  },
  {
   "cell_type": "markdown",
   "id": "4b86c9b6-26e6-47fe-9cc8-a31fa3471079",
   "metadata": {},
   "source": [
    "Note that when the structure is created, it is also added to the Graph automatically. We can visualise the graph."
   ]
  },
  {
   "cell_type": "code",
   "execution_count": null,
   "id": "79772707-5981-4ae5-8131-a7ef8455858c",
   "metadata": {
    "tags": []
   },
   "outputs": [],
   "source": [
    "g.visualise()"
   ]
  },
  {
   "cell_type": "markdown",
   "id": "2b935f83-0970-45b5-8772-91e9a1cea966",
   "metadata": {},
   "source": [
    "Now a Si diamond structure"
   ]
  },
  {
   "cell_type": "code",
   "execution_count": null,
   "id": "6c14e7af-b5c2-46bb-a365-9ec781e612b5",
   "metadata": {
    "tags": []
   },
   "outputs": [],
   "source": [
    "struct_Si = g.create_element(\"Si\")"
   ]
  },
  {
   "cell_type": "markdown",
   "id": "2756366b-a9f8-46f2-8675-6d1874e3237b",
   "metadata": {},
   "source": [
    "Finally, an L12 $Ni_3 Al$ structure"
   ]
  },
  {
   "cell_type": "code",
   "execution_count": 3,
   "id": "89e1aaca-34b3-472c-8002-1cc11d078f8d",
   "metadata": {
    "tags": []
   },
   "outputs": [
    {
     "name": "stdout",
     "output_type": "stream",
     "text": [
      "['Al', 'Ni']\n"
     ]
    }
   ],
   "source": [
    "struct_l12 = g.create_structure(\"l12\", element=['Al', 'Ni'], \n",
    "                         lattice_constant=3.57)"
   ]
  },
  {
   "cell_type": "code",
   "execution_count": 4,
   "id": "17b9ad8b-bf22-4161-9864-40fa6d224d79",
   "metadata": {
    "tags": []
   },
   "outputs": [
    {
     "data": {
      "application/vnd.jupyter.widget-view+json": {
       "model_id": "61a43f15c15e4a71a52599b4e6be62a3",
       "version_major": 2,
       "version_minor": 0
      },
      "text/plain": [
       "CytoscapeWidget(cytoscape_layout={'name': 'cola', 'avoidOverlap': True, 'animate': True}, cytoscape_style=[{'s…"
      ]
     },
     "execution_count": 4,
     "metadata": {},
     "output_type": "execute_result"
    }
   ],
   "source": [
    "g.visualise()"
   ]
  },
  {
   "cell_type": "markdown",
   "id": "e83523ad-f684-42fe-84e1-da8125201a0d",
   "metadata": {},
   "source": [
    "We can save the graph and reload it as needed"
   ]
  },
  {
   "cell_type": "markdown",
   "id": "906584fc-01c6-4c63-9024-f39baacd655d",
   "metadata": {},
   "source": [
    "## Querying the graph"
   ]
  },
  {
   "cell_type": "markdown",
   "id": "dc96d3a3-b2e8-4f56-b7ad-b30809b604c9",
   "metadata": {},
   "source": [
    "An example question would be, **what are the space group of all structures with 4 atoms?**\n"
   ]
  },
  {
   "cell_type": "markdown",
   "id": "f7f63dfe-bbb6-4ccc-a2f4-6d091c4ec92d",
   "metadata": {},
   "source": [
    "The corresponding SPARQL query looks like this:"
   ]
  },
  {
   "cell_type": "code",
   "execution_count": null,
   "id": "8ffe7592-4349-4c46-bf40-7edea50c652c",
   "metadata": {
    "tags": []
   },
   "outputs": [],
   "source": [
    "query = \"\"\"\n",
    "PREFIX cmso: <https://purls.helmholtz-metadaten.de/cmso/>\n",
    "SELECT DISTINCT ?symbol\n",
    "WHERE {\n",
    "    ?sample cmso:hasNumberOfAtoms ?number .\n",
    "    ?sample cmso:hasMaterial ?material .\n",
    "    ?material cmso:hasStructure ?structure .\n",
    "    ?structure cmso:hasSpaceGroup ?spacegroup .\n",
    "    ?spacegroup cmso:hasSpaceGroupSymbol ?symbol .\n",
    "FILTER (?number=\"4\"^^xsd:integer)\n",
    "}\"\"\""
   ]
  },
  {
   "cell_type": "code",
   "execution_count": null,
   "id": "4a8eba1e-3ffb-4129-8818-5caf8ce0de4b",
   "metadata": {
    "tags": []
   },
   "outputs": [],
   "source": [
    "res = g.graph.query(query)"
   ]
  },
  {
   "cell_type": "markdown",
   "id": "0e41d31d-c4a8-450f-a70e-0543411924ad",
   "metadata": {},
   "source": [
    "And print the results"
   ]
  },
  {
   "cell_type": "code",
   "execution_count": null,
   "id": "f4b6f799-ff85-45c7-a318-f2598a32a48c",
   "metadata": {
    "tags": []
   },
   "outputs": [],
   "source": [
    "for r in res:\n",
    "    print(r[0])"
   ]
  },
  {
   "cell_type": "markdown",
   "id": "62b70c91-a0ed-4e35-bdb2-e087a3259726",
   "metadata": {},
   "source": [
    "There are also pre-built queries. For example, **What are all the samples with Bravais lattice bcc?**"
   ]
  },
  {
   "cell_type": "code",
   "execution_count": null,
   "id": "098b73d2-9c35-45fe-9120-e042c2a3734b",
   "metadata": {
    "tags": []
   },
   "outputs": [],
   "source": [
    "from pyscal_rdf.queries import Query"
   ]
  },
  {
   "cell_type": "code",
   "execution_count": null,
   "id": "4bc496f1-11c8-49d0-afe2-56386a313b2d",
   "metadata": {
    "tags": []
   },
   "outputs": [],
   "source": [
    "q = Query()"
   ]
  },
  {
   "cell_type": "code",
   "execution_count": null,
   "id": "432be248-e367-4ef8-809b-c8987f03712e",
   "metadata": {
    "tags": []
   },
   "outputs": [],
   "source": [
    "samples = q.sparql.sample_by_latticesystem(g, 'bcc')"
   ]
  },
  {
   "cell_type": "markdown",
   "id": "1e827b4b-e762-4748-be36-ae7ac0d9a60a",
   "metadata": {},
   "source": [
    "We can check how many samples we found"
   ]
  },
  {
   "cell_type": "code",
   "execution_count": null,
   "id": "2914053c-7139-4b20-9198-e71cb5b8285a",
   "metadata": {
    "tags": []
   },
   "outputs": [],
   "source": [
    "len(samples)"
   ]
  },
  {
   "cell_type": "markdown",
   "id": "39acbab2-4912-47c7-b24f-a79e1791fbbc",
   "metadata": {},
   "source": [
    "As expected, there is only one sample"
   ]
  },
  {
   "cell_type": "markdown",
   "id": "d7bc4ed1-f5a6-4899-8a56-6353e68c4c82",
   "metadata": {},
   "source": [
    "We can write this sample to a file, for example, a LAMMPS data format, to use it for further simulations"
   ]
  },
  {
   "cell_type": "code",
   "execution_count": null,
   "id": "0cb6b043-abb3-41ca-bee7-fb3bf1e7e615",
   "metadata": {
    "tags": []
   },
   "outputs": [],
   "source": [
    "g.to_file(samples[0], 'bcc.data', format=\"lammps-data\")"
   ]
  },
  {
   "cell_type": "code",
   "execution_count": null,
   "id": "ae884716-a31b-4170-b4d4-9cf8309a6d74",
   "metadata": {
    "tags": []
   },
   "outputs": [],
   "source": [
    "! more bcc.data"
   ]
  },
  {
   "cell_type": "markdown",
   "id": "061d2c92-8c3f-4e8b-bb83-212a02963d09",
   "metadata": {},
   "source": [
    "We can also export as an ASE object"
   ]
  },
  {
   "cell_type": "code",
   "execution_count": null,
   "id": "7ba5d551-f85b-4c33-be37-b997feffd7d7",
   "metadata": {
    "tags": []
   },
   "outputs": [],
   "source": [
    "aseobj = g.to_file(samples[0], format=\"ase\")"
   ]
  },
  {
   "cell_type": "code",
   "execution_count": null,
   "id": "f4a90cbe-cf6a-4285-a0d2-b7525726c6dc",
   "metadata": {
    "tags": []
   },
   "outputs": [],
   "source": [
    "aseobj"
   ]
  },
  {
   "cell_type": "markdown",
   "id": "19d60691-8126-4688-b43f-7ddd7e3b6ec7",
   "metadata": {},
   "source": [
    "## Grain boundaries\n",
    "\n",
    "Still under active development (early stages).."
   ]
  },
  {
   "cell_type": "markdown",
   "id": "7112cdcd-66c7-457d-9005-1aad5989083b",
   "metadata": {},
   "source": [
    "We start by creating a $\\Sigma 5 (3 \\bar{1} 0)$"
   ]
  },
  {
   "cell_type": "code",
   "execution_count": null,
   "id": "8e0bf115-0cc7-4c68-b97f-ff6a1cfb7558",
   "metadata": {
    "tags": []
   },
   "outputs": [],
   "source": [
    "struct_gb_1 = g.create_grain_boundary(axis=[0,0,1], \n",
    "                        sigma=5, \n",
    "                        gb_plane=[3, -1, 0],\n",
    "                        element='Fe')"
   ]
  },
  {
   "cell_type": "markdown",
   "id": "72f46586-d1d1-4505-beaf-21effbb69c8b",
   "metadata": {},
   "source": [
    "Some other examples, $\\Sigma 19 (\\bar{3}20)$ and $\\Sigma 19 (111)$"
   ]
  },
  {
   "cell_type": "code",
   "execution_count": null,
   "id": "9b5ee7b6-17d4-44c5-a3d4-46d088abdf99",
   "metadata": {
    "tags": []
   },
   "outputs": [],
   "source": [
    "struct_gb_2 = g.create_grain_boundary(axis=[1,1,1], \n",
    "                        sigma=19, \n",
    "                        gb_plane=[-3, 2, 0],\n",
    "                        element='Fe')\n",
    "\n",
    "struct_gb_3 = g.create_grain_boundary(axis=[1,1,1], \n",
    "                        sigma=19, \n",
    "                        gb_plane=[-1, -1, -1],\n",
    "                        element='Fe')"
   ]
  },
  {
   "cell_type": "markdown",
   "id": "e1187181-4bd6-4a34-b4f8-2afe3105574a",
   "metadata": {},
   "source": [
    "**What are all the samples with symmetric tilt grain boundaries?**"
   ]
  },
  {
   "cell_type": "code",
   "execution_count": null,
   "id": "1266a23a-e6f3-4e19-a52b-86a54082a461",
   "metadata": {
    "tags": []
   },
   "outputs": [],
   "source": [
    "samples = q.sparql.sample_by_defect(g, \"symmetric tilt\")"
   ]
  },
  {
   "cell_type": "code",
   "execution_count": null,
   "id": "02d26b92-6fc4-48a2-9d06-c852efc320ee",
   "metadata": {
    "tags": []
   },
   "outputs": [],
   "source": [
    "samples"
   ]
  },
  {
   "cell_type": "code",
   "execution_count": null,
   "id": "1ecc7de1-414d-46a7-b79e-c61a0017eb5c",
   "metadata": {
    "tags": []
   },
   "outputs": [],
   "source": [
    "g.to_file(samples[0], filename=\"POSCAR\", format=\"poscar\")"
   ]
  },
  {
   "cell_type": "code",
   "execution_count": null,
   "id": "6daf829f-5ff2-4e1f-a53c-0511c672770f",
   "metadata": {
    "tags": []
   },
   "outputs": [],
   "source": [
    "! head -20 POSCAR"
   ]
  },
  {
   "cell_type": "markdown",
   "id": "ba62b487-f53b-45c8-a2ee-4afcfddaa1df",
   "metadata": {},
   "source": [
    "**What are all the samples with boundaries with sigma values between 7 and 21?**"
   ]
  },
  {
   "cell_type": "code",
   "execution_count": null,
   "id": "fe8f8709-41f6-466a-8b77-b6eeb385b5aa",
   "metadata": {
    "tags": []
   },
   "outputs": [],
   "source": [
    "samples = q.sparql.sample_by_sigma(g, [7, 21])"
   ]
  },
  {
   "cell_type": "code",
   "execution_count": null,
   "id": "36c55f2c-f235-4535-a8f7-ff8ce6c7254b",
   "metadata": {
    "tags": []
   },
   "outputs": [],
   "source": [
    "len(samples)"
   ]
  },
  {
   "cell_type": "code",
   "execution_count": null,
   "id": "c845c735-5791-43e3-a105-b1398882fa6b",
   "metadata": {},
   "outputs": [],
   "source": []
  }
 ],
 "metadata": {
  "kernelspec": {
   "display_name": "Python 3 (ipykernel)",
   "language": "python",
   "name": "python3"
  },
  "language_info": {
   "codemirror_mode": {
    "name": "ipython",
    "version": 3
   },
   "file_extension": ".py",
   "mimetype": "text/x-python",
   "name": "python",
   "nbconvert_exporter": "python",
   "pygments_lexer": "ipython3",
   "version": "3.9.16"
  }
 },
 "nbformat": 4,
 "nbformat_minor": 5
}
